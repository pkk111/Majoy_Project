{
 "cells": [
  {
   "cell_type": "code",
   "execution_count": 28,
   "metadata": {},
   "outputs": [
    {
     "name": "stdout",
     "output_type": "stream",
     "text": [
      "Found 27558 files belonging to 2 classes.\n",
      "Using 22047 files for training.\n",
      "Found 27558 files belonging to 2 classes.\n",
      "Using 5511 files for validation.\n",
      "[32, 32, 3]\n"
     ]
    }
   ],
   "source": [
    "\n",
    "import tensorflow as tf\n",
    "from tensorflow.keras.preprocessing import image_dataset_from_directory\n",
    "\n",
    "shared_dir = '/Users/prateek/Desktop/ML/Major/data/'\n",
    "input_shape = [32, 32]\n",
    "batch = 32\n",
    "\n",
    "training_set = image_dataset_from_directory(shared_dir,\n",
    "                                            validation_split=0.2,\n",
    "                                            subset=\"training\",\n",
    "                                            batch_size=batch,\n",
    "                                            seed=1,\n",
    "                                            color_mode='rgb',\n",
    "                                            image_size=input_shape)\n",
    "\n",
    "val_dataset = image_dataset_from_directory(shared_dir,\n",
    "                                            validation_split=0.2,\n",
    "                                            subset=\"validation\",\n",
    "                                            batch_size=batch,\n",
    "                                            seed=1,\n",
    "                                            color_mode='rgb',\n",
    "                                            image_size=input_shape)\n",
    "\n",
    "input_shape.append(3)\n",
    "print(input_shape)"
   ]
  },
  {
   "cell_type": "code",
   "execution_count": 29,
   "metadata": {},
   "outputs": [],
   "source": [
    "import keras\n",
    "\n",
    "data_augmentation = keras.Sequential(\n",
    "    [       tf.keras.layers.experimental.preprocessing.RandomFlip(\"horizontal\"),\n",
    "            tf.keras.layers.experimental.preprocessing.RandomRotation(0.1),\n",
    "    ]\n",
    ")\n"
   ]
  },
  {
   "cell_type": "code",
   "execution_count": 30,
   "metadata": {},
   "outputs": [],
   "source": [
    "# import numpy as np\n",
    "# import matplotlib.pyplot as plt\n",
    "# from google.colab.patches import cv2_imshow\n",
    "\n",
    "# for images, labels in training_set.take(1):\n",
    "#     cv2_imshow(images[0].numpy().astype('int32'))\n",
    "#     plt.figure(figsize=(12, 12))\n",
    "#     first_image = images[0]\n",
    "#     for i in range(12):\n",
    "#         ax = plt.subplot(3, 4, i + 1)\n",
    "#         augmented_image = data_augmentation(\n",
    "#             tf.expand_dims(first_image, 0)\n",
    "#         )\n",
    "#         plt.imshow(augmented_image[0].numpy().astype(\"int32\"))\n",
    "#         plt.axis(\"off\")"
   ]
  },
  {
   "cell_type": "code",
   "execution_count": 36,
   "metadata": {},
   "outputs": [
    {
     "name": "stdout",
     "output_type": "stream",
     "text": [
      "Model: \"model_14\"\n",
      "_________________________________________________________________\n",
      " Layer (type)                Output Shape              Param #   \n",
      "=================================================================\n",
      " input_20 (InputLayer)       [(None, 32, 32, 3)]       0         \n",
      "                                                                 \n",
      " tf.math.truediv_19 (TFOpLam  (None, 32, 32, 3)        0         \n",
      " bda)                                                            \n",
      "                                                                 \n",
      " tf.math.subtract_19 (TFOpLa  (None, 32, 32, 3)        0         \n",
      " mbda)                                                           \n",
      "                                                                 \n",
      " conv2d_71 (Conv2D)          (None, 30, 30, 16)        448       \n",
      "                                                                 \n",
      " max_pooling2d_61 (MaxPoolin  (None, 15, 15, 16)       0         \n",
      " g2D)                                                            \n",
      "                                                                 \n",
      " conv2d_72 (Conv2D)          (None, 12, 12, 8)         2056      \n",
      "                                                                 \n",
      " max_pooling2d_62 (MaxPoolin  (None, 6, 6, 8)          0         \n",
      " g2D)                                                            \n",
      "                                                                 \n",
      " conv2d_73 (Conv2D)          (None, 4, 4, 4)           292       \n",
      "                                                                 \n",
      " max_pooling2d_63 (MaxPoolin  (None, 2, 2, 4)          0         \n",
      " g2D)                                                            \n",
      "                                                                 \n",
      " conv2d_74 (Conv2D)          (None, 1, 1, 2)           34        \n",
      "                                                                 \n",
      " conv2d_75 (Conv2D)          (None, 1, 1, 64)          192       \n",
      "                                                                 \n",
      " dropout_2 (Dropout)         (None, 1, 1, 64)          0         \n",
      "                                                                 \n",
      " batch_normalization_2 (Batc  (None, 1, 1, 64)         256       \n",
      " hNormalization)                                                 \n",
      "                                                                 \n",
      " activation_1 (Activation)   (None, 1, 1, 64)          0         \n",
      "                                                                 \n",
      " conv2d_76 (Conv2D)          (None, 1, 1, 5)           325       \n",
      "                                                                 \n",
      " dropout_3 (Dropout)         (None, 1, 1, 5)           0         \n",
      "                                                                 \n",
      " batch_normalization_3 (Batc  (None, 1, 1, 5)          20        \n",
      " hNormalization)                                                 \n",
      "                                                                 \n",
      " global_max_pooling2d_1 (Glo  (None, 5)                0         \n",
      " balMaxPooling2D)                                                \n",
      "                                                                 \n",
      " flatten_14 (Flatten)        (None, 5)                 0         \n",
      "                                                                 \n",
      " dense_14 (Dense)            (None, 1)                 6         \n",
      "                                                                 \n",
      "=================================================================\n",
      "Total params: 3,629\n",
      "Trainable params: 3,491\n",
      "Non-trainable params: 138\n",
      "_________________________________________________________________\n"
     ]
    }
   ],
   "source": [
    "from keras.models import Sequential\n",
    "from keras.layers import Conv2D, MaxPooling2D\n",
    "from keras.layers import Dense, Dropout, Flatten, GlobalAveragePooling2D\n",
    "from keras import Model, Input\n",
    "from keras.applications.xception import Xception, preprocess_input\n",
    "\n",
    "epochs = 50\n",
    "dropout_rate = 0.2\n",
    "len_classes = 5\n",
    "\n",
    "inputs = Input(shape=input_shape)\n",
    "x = data_augmentation(inputs) \n",
    "x = preprocess_input(inputs)\n",
    "x = Conv2D(16, kernel_size=(3, 3),activation='relu',input_shape=input_shape)(x)\n",
    "x = MaxPooling2D(pool_size=(2, 2))(x)\n",
    "x = Conv2D(8, kernel_size=(4, 4),activation='relu')(x)\n",
    "x = MaxPooling2D(pool_size=(2, 2))(x)\n",
    "x = Conv2D(4, kernel_size=(3, 3),activation='relu')(x)\n",
    "x = MaxPooling2D(pool_size=(2, 2))(x)\n",
    "x = Conv2D(2, kernel_size=(2, 2),activation='relu')(x)\n",
    "# x = MaxPooling2D(pool_size=(1, 1))(x)\n",
    "\n",
    "x = tf.keras.layers.Conv2D(filters=64, kernel_size=1, strides=1)(x)\n",
    "x = tf.keras.layers.Dropout(dropout_rate)(x)\n",
    "x = tf.keras.layers.BatchNormalization()(x)\n",
    "x = tf.keras.layers.Activation('relu')(x)\n",
    "x = tf.keras.layers.Conv2D(filters=len_classes, kernel_size=1, strides=1)(x)\n",
    "x = tf.keras.layers.Dropout(dropout_rate)(x)\n",
    "x = tf.keras.layers.BatchNormalization()(x)\n",
    "x = tf.keras.layers.GlobalMaxPooling2D()(x)\n",
    "\n",
    "x = Flatten()(x)\n",
    "outputs = Dense(1)(x)\n",
    "model = Model(inputs, outputs)\n",
    "model.summary()\n",
    "model.compile(optimizer='adam', loss=keras.losses.BinaryCrossentropy(from_logits=True),metrics=keras.metrics.BinaryAccuracy())\n"
   ]
  },
  {
   "cell_type": "code",
   "execution_count": 39,
   "metadata": {},
   "outputs": [
    {
     "name": "stdout",
     "output_type": "stream",
     "text": [
      "Epoch 1/50\n",
      "689/689 [==============================] - 10s 15ms/step - loss: 0.0447 - binary_accuracy: 0.9843 - val_loss: 0.0756 - val_binary_accuracy: 0.9750\n",
      "Epoch 2/50\n",
      "689/689 [==============================] - 9s 13ms/step - loss: 0.0435 - binary_accuracy: 0.9844 - val_loss: 0.0773 - val_binary_accuracy: 0.9753\n",
      "Epoch 3/50\n",
      "689/689 [==============================] - 9s 13ms/step - loss: 0.0442 - binary_accuracy: 0.9835 - val_loss: 0.0917 - val_binary_accuracy: 0.9766\n",
      "Epoch 4/50\n",
      "689/689 [==============================] - 9s 13ms/step - loss: 0.0449 - binary_accuracy: 0.9836 - val_loss: 0.0849 - val_binary_accuracy: 0.9750\n",
      "Epoch 5/50\n",
      "689/689 [==============================] - 9s 12ms/step - loss: 0.0481 - binary_accuracy: 0.9836 - val_loss: 0.0907 - val_binary_accuracy: 0.9751\n",
      "Epoch 6/50\n",
      "689/689 [==============================] - 9s 12ms/step - loss: 0.0437 - binary_accuracy: 0.9843 - val_loss: 0.0748 - val_binary_accuracy: 0.9741\n",
      "Epoch 7/50\n",
      "689/689 [==============================] - 8s 12ms/step - loss: 0.0427 - binary_accuracy: 0.9849 - val_loss: 0.0830 - val_binary_accuracy: 0.9750\n",
      "Epoch 8/50\n",
      "689/689 [==============================] - 8s 12ms/step - loss: 0.0454 - binary_accuracy: 0.9832 - val_loss: 0.0750 - val_binary_accuracy: 0.9746\n",
      "Epoch 9/50\n",
      "689/689 [==============================] - 9s 13ms/step - loss: 0.0467 - binary_accuracy: 0.9833 - val_loss: 0.0749 - val_binary_accuracy: 0.9766\n",
      "Epoch 10/50\n",
      "689/689 [==============================] - 9s 12ms/step - loss: 0.0446 - binary_accuracy: 0.9840 - val_loss: 0.0743 - val_binary_accuracy: 0.9762\n",
      "Epoch 11/50\n",
      "689/689 [==============================] - 9s 12ms/step - loss: 0.0434 - binary_accuracy: 0.9844 - val_loss: 0.0715 - val_binary_accuracy: 0.9748\n",
      "Epoch 12/50\n",
      "689/689 [==============================] - 9s 13ms/step - loss: 0.0418 - binary_accuracy: 0.9848 - val_loss: 0.0892 - val_binary_accuracy: 0.9759\n",
      "Epoch 13/50\n",
      "689/689 [==============================] - 9s 13ms/step - loss: 0.0396 - binary_accuracy: 0.9859 - val_loss: 0.0771 - val_binary_accuracy: 0.9764\n",
      "Epoch 14/50\n",
      "689/689 [==============================] - 9s 12ms/step - loss: 0.0422 - binary_accuracy: 0.9846 - val_loss: 0.1043 - val_binary_accuracy: 0.9677\n",
      "Epoch 15/50\n",
      "689/689 [==============================] - 8s 12ms/step - loss: 0.0411 - binary_accuracy: 0.9849 - val_loss: 0.0774 - val_binary_accuracy: 0.9757\n",
      "Epoch 16/50\n",
      "689/689 [==============================] - 9s 12ms/step - loss: 0.0416 - binary_accuracy: 0.9849 - val_loss: 0.0764 - val_binary_accuracy: 0.9726\n",
      "Epoch 17/50\n",
      "689/689 [==============================] - 9s 13ms/step - loss: 0.0402 - binary_accuracy: 0.9857 - val_loss: 0.0761 - val_binary_accuracy: 0.9748\n",
      "Epoch 18/50\n",
      "689/689 [==============================] - 9s 13ms/step - loss: 0.0398 - binary_accuracy: 0.9867 - val_loss: 0.0834 - val_binary_accuracy: 0.9724\n",
      "Epoch 19/50\n",
      "689/689 [==============================] - 9s 13ms/step - loss: 0.0421 - binary_accuracy: 0.9849 - val_loss: 0.0813 - val_binary_accuracy: 0.9755\n",
      "Epoch 20/50\n",
      "689/689 [==============================] - 9s 13ms/step - loss: 0.0413 - binary_accuracy: 0.9845 - val_loss: 0.0916 - val_binary_accuracy: 0.9715\n",
      "Epoch 21/50\n",
      "689/689 [==============================] - 9s 13ms/step - loss: 0.0406 - binary_accuracy: 0.9849 - val_loss: 0.0912 - val_binary_accuracy: 0.9733\n",
      "Epoch 22/50\n",
      "689/689 [==============================] - 9s 14ms/step - loss: 0.0382 - binary_accuracy: 0.9873 - val_loss: 0.0871 - val_binary_accuracy: 0.9721\n",
      "Epoch 23/50\n",
      "689/689 [==============================] - 9s 13ms/step - loss: 0.0400 - binary_accuracy: 0.9851 - val_loss: 0.0855 - val_binary_accuracy: 0.9730\n",
      "Epoch 24/50\n",
      "689/689 [==============================] - 9s 13ms/step - loss: 0.0377 - binary_accuracy: 0.9865 - val_loss: 0.0850 - val_binary_accuracy: 0.9731\n",
      "Epoch 25/50\n",
      "689/689 [==============================] - 8s 12ms/step - loss: 0.0381 - binary_accuracy: 0.9864 - val_loss: 0.0739 - val_binary_accuracy: 0.9755\n",
      "Epoch 26/50\n",
      "689/689 [==============================] - 9s 12ms/step - loss: 0.0397 - binary_accuracy: 0.9852 - val_loss: 0.0774 - val_binary_accuracy: 0.9722\n",
      "Epoch 27/50\n",
      "689/689 [==============================] - 9s 13ms/step - loss: 0.0390 - binary_accuracy: 0.9868 - val_loss: 0.0964 - val_binary_accuracy: 0.9614\n",
      "Epoch 28/50\n",
      "689/689 [==============================] - 9s 13ms/step - loss: 0.0391 - binary_accuracy: 0.9860 - val_loss: 0.0825 - val_binary_accuracy: 0.9684\n",
      "Epoch 29/50\n",
      "689/689 [==============================] - 9s 12ms/step - loss: 0.0372 - binary_accuracy: 0.9866 - val_loss: 0.0815 - val_binary_accuracy: 0.9702\n",
      "Epoch 30/50\n",
      "689/689 [==============================] - 9s 13ms/step - loss: 0.0381 - binary_accuracy: 0.9861 - val_loss: 0.0812 - val_binary_accuracy: 0.9728\n",
      "Epoch 31/50\n",
      "689/689 [==============================] - 9s 13ms/step - loss: 0.0369 - binary_accuracy: 0.9868 - val_loss: 0.1039 - val_binary_accuracy: 0.9650\n",
      "Epoch 32/50\n",
      "689/689 [==============================] - 9s 12ms/step - loss: 0.0397 - binary_accuracy: 0.9859 - val_loss: 0.0792 - val_binary_accuracy: 0.9704\n",
      "Epoch 33/50\n",
      "689/689 [==============================] - 8s 12ms/step - loss: 0.0372 - binary_accuracy: 0.9868 - val_loss: 0.1003 - val_binary_accuracy: 0.9650\n",
      "Epoch 34/50\n",
      "689/689 [==============================] - 9s 12ms/step - loss: 0.0361 - binary_accuracy: 0.9870 - val_loss: 0.0968 - val_binary_accuracy: 0.9641\n",
      "Epoch 35/50\n",
      "689/689 [==============================] - 9s 12ms/step - loss: 0.0382 - binary_accuracy: 0.9864 - val_loss: 0.0942 - val_binary_accuracy: 0.9693\n",
      "Epoch 36/50\n",
      "689/689 [==============================] - 9s 13ms/step - loss: 0.0369 - binary_accuracy: 0.9866 - val_loss: 0.1249 - val_binary_accuracy: 0.9635\n",
      "Epoch 37/50\n",
      "689/689 [==============================] - 10s 14ms/step - loss: 0.0353 - binary_accuracy: 0.9866 - val_loss: 0.1042 - val_binary_accuracy: 0.9653\n",
      "Epoch 38/50\n",
      "689/689 [==============================] - 9s 13ms/step - loss: 0.0387 - binary_accuracy: 0.9860 - val_loss: 0.0920 - val_binary_accuracy: 0.9670\n",
      "Epoch 39/50\n",
      "689/689 [==============================] - 9s 13ms/step - loss: 0.0370 - binary_accuracy: 0.9866 - val_loss: 0.0754 - val_binary_accuracy: 0.9737\n",
      "Epoch 40/50\n",
      "689/689 [==============================] - 10s 14ms/step - loss: 0.0346 - binary_accuracy: 0.9873 - val_loss: 0.1030 - val_binary_accuracy: 0.9617\n",
      "Epoch 41/50\n",
      "689/689 [==============================] - 9s 14ms/step - loss: 0.0360 - binary_accuracy: 0.9873 - val_loss: 0.0737 - val_binary_accuracy: 0.9719\n",
      "Epoch 42/50\n",
      "689/689 [==============================] - 9s 14ms/step - loss: 0.0365 - binary_accuracy: 0.9871 - val_loss: 0.1006 - val_binary_accuracy: 0.9628\n",
      "Epoch 43/50\n",
      "689/689 [==============================] - 9s 14ms/step - loss: 0.0349 - binary_accuracy: 0.9876 - val_loss: 0.0898 - val_binary_accuracy: 0.9702\n",
      "Epoch 44/50\n",
      "689/689 [==============================] - 9s 14ms/step - loss: 0.0353 - binary_accuracy: 0.9877 - val_loss: 0.0960 - val_binary_accuracy: 0.9670\n",
      "Epoch 45/50\n",
      "689/689 [==============================] - 9s 13ms/step - loss: 0.0321 - binary_accuracy: 0.9888 - val_loss: 0.1071 - val_binary_accuracy: 0.9590\n",
      "Epoch 46/50\n",
      "689/689 [==============================] - 9s 12ms/step - loss: 0.0346 - binary_accuracy: 0.9886 - val_loss: 0.0884 - val_binary_accuracy: 0.9682\n",
      "Epoch 47/50\n",
      "689/689 [==============================] - 9s 13ms/step - loss: 0.0349 - binary_accuracy: 0.9871 - val_loss: 0.0938 - val_binary_accuracy: 0.9646\n",
      "Epoch 48/50\n",
      "689/689 [==============================] - 9s 13ms/step - loss: 0.0351 - binary_accuracy: 0.9872 - val_loss: 0.1047 - val_binary_accuracy: 0.9637\n",
      "Epoch 49/50\n",
      "689/689 [==============================] - 10s 14ms/step - loss: 0.0319 - binary_accuracy: 0.9886 - val_loss: 0.0916 - val_binary_accuracy: 0.9639\n",
      "Epoch 50/50\n",
      "689/689 [==============================] - 9s 14ms/step - loss: 0.0330 - binary_accuracy: 0.9885 - val_loss: 0.1009 - val_binary_accuracy: 0.9644\n"
     ]
    }
   ],
   "source": [
    "\n",
    "history = model.fit(training_set, epochs=epochs, validation_data=val_dataset)"
   ]
  },
  {
   "cell_type": "code",
   "execution_count": 62,
   "metadata": {},
   "outputs": [
    {
     "name": "stdout",
     "output_type": "stream",
     "text": [
      "loss\n",
      "binary_accuracy\n",
      "val_loss\n",
      "val_binary_accuracy\n"
     ]
    },
    {
     "data": {
      "image/png": "[encoded data removed]",
      "text/plain": [
       "<Figure size 432x288 with 1 Axes>"
      ]
     },
     "metadata": {
      "needs_background": "light"
     },
     "output_type": "display_data"
    },
    {
     "data": {
      "image/png": "[encoded data removed]",
      "text/plain": [
       "<Figure size 432x288 with 1 Axes>"
      ]
     },
     "metadata": {
      "needs_background": "light"
     },
     "output_type": "display_data"
    }
   ],
   "source": [
    "import matplotlib.pyplot as plt\n",
    "\n",
    "for key in history.history.keys():\n",
    "    print(key)\n",
    "loss_train = history.history['loss']\n",
    "loss_val = history.history['val_loss']\n",
    "epochs = range(50)\n",
    "plt.plot(epochs, loss_train, 'g', label='Training loss')\n",
    "plt.plot(epochs, loss_val, 'b', label='validation loss')\n",
    "plt.title('Training and Validation loss')\n",
    "plt.xlabel('Epochs')\n",
    "plt.ylabel('Loss')\n",
    "plt.legend()\n",
    "plt.show()\n",
    "\n",
    "loss_train = history.history['binary_accuracy']\n",
    "loss_val = history.history['val_binary_accuracy']\n",
    "plt.plot(epochs, loss_train, 'g', label='Training accuracy')\n",
    "plt.plot(epochs, loss_val, 'b', label='validation accuracy')\n",
    "plt.title('Training and Validation accuracy')\n",
    "plt.xlabel('Epochs')\n",
    "plt.ylabel('Accuracy')\n",
    "plt.legend()\n",
    "plt.show()"
   ]
  },
  {
   "cell_type": "code",
   "execution_count": 56,
   "metadata": {},
   "outputs": [
    {
     "ename": "NameError",
     "evalue": "name 'base_model' is not defined",
     "output_type": "error",
     "traceback": [
      "\u001b[0;31m---------------------------------------------------------------------------\u001b[0m",
      "\u001b[0;31mNameError\u001b[0m                                 Traceback (most recent call last)",
      "\u001b[1;32m/Users/prateek/Desktop/ML/Major/code_3.ipynb Cell 7'\u001b[0m in \u001b[0;36m<cell line: 1>\u001b[0;34m()\u001b[0m\n\u001b[0;32m----> <a href='vscode-notebook-cell:/Users/prateek/Desktop/ML/Major/code_3.ipynb#ch0000005?line=0'>1</a>\u001b[0m base_model\u001b[39m.\u001b[39mtrainable \u001b[39m=\u001b[39m \u001b[39mTrue\u001b[39;00m\n\u001b[1;32m      <a href='vscode-notebook-cell:/Users/prateek/Desktop/ML/Major/code_3.ipynb#ch0000005?line=1'>2</a>\u001b[0m model\u001b[39m.\u001b[39mcompile(optimizer\u001b[39m=\u001b[39mtf\u001b[39m.\u001b[39mkeras\u001b[39m.\u001b[39moptimizers\u001b[39m.\u001b[39mAdam(\u001b[39m1e-5\u001b[39m),  \n\u001b[1;32m      <a href='vscode-notebook-cell:/Users/prateek/Desktop/ML/Major/code_3.ipynb#ch0000005?line=2'>3</a>\u001b[0m               loss\u001b[39m=\u001b[39mtf\u001b[39m.\u001b[39mkeras\u001b[39m.\u001b[39mlosses\u001b[39m.\u001b[39mBinaryCrossentropy(from_logits\u001b[39m=\u001b[39m\u001b[39mTrue\u001b[39;00m),\n\u001b[1;32m      <a href='vscode-notebook-cell:/Users/prateek/Desktop/ML/Major/code_3.ipynb#ch0000005?line=3'>4</a>\u001b[0m               metrics\u001b[39m=\u001b[39mtf\u001b[39m.\u001b[39mkeras\u001b[39m.\u001b[39mmetrics\u001b[39m.\u001b[39mBinaryAccuracy())\n\u001b[1;32m      <a href='vscode-notebook-cell:/Users/prateek/Desktop/ML/Major/code_3.ipynb#ch0000005?line=4'>5</a>\u001b[0m \u001b[39mfrom\u001b[39;00m \u001b[39mtensorflow\u001b[39;00m\u001b[39m.\u001b[39;00m\u001b[39mkeras\u001b[39;00m\u001b[39m.\u001b[39;00m\u001b[39mcallbacks\u001b[39;00m \u001b[39mimport\u001b[39;00m EarlyStopping, TensorBoard\n",
      "\u001b[0;31mNameError\u001b[0m: name 'base_model' is not defined"
     ]
    }
   ],
   "source": [
    "base_model.trainable = True\n",
    "model.compile(optimizer=tf.keras.optimizers.Adam(1e-5),  \n",
    "              loss=tf.keras.losses.BinaryCrossentropy(from_logits=True),\n",
    "              metrics=tf.keras.metrics.BinaryAccuracy())\n",
    "from tensorflow.keras.callbacks import EarlyStopping, TensorBoard\n",
    "# rm -rf logs\n",
    "%load_ext tensorboard\n",
    "log_folder = 'logs'\n",
    "callbacks = [\n",
    "            EarlyStopping(patience = 5),\n",
    "            TensorBoard(log_dir=log_folder)\n",
    "            ]"
   ]
  },
  {
   "cell_type": "code",
   "execution_count": null,
   "metadata": {},
   "outputs": [
    {
     "name": "stdout",
     "output_type": "stream",
     "text": [
      "The tensorboard extension is already loaded. To reload it, use:\n",
      "  %reload_ext tensorboard\n",
      "Epoch 1/15\n"
     ]
    },
    {
     "name": "stderr",
     "output_type": "stream",
     "text": [
      "2022-03-16 19:20:10.474866: I tensorflow/core/grappler/optimizers/custom_graph_optimizer_registry.cc:113] Plugin optimizer for device_type GPU is enabled.\n"
     ]
    },
    {
     "name": "stdout",
     "output_type": "stream",
     "text": [
      "663/689 [===========================>..] - ETA: 2s - loss: 0.4163 - binary_accuracy: 0.7972"
     ]
    }
   ],
   "source": [
    "from tensorflow.keras.callbacks import EarlyStopping, TensorBoard\n",
    "# rm -rf logs\n",
    "%load_ext tensorboard\n",
    "log_folder = 'logs'\n",
    "callbacks = [\n",
    "            EarlyStopping(patience = 5),\n",
    "            TensorBoard(log_dir=log_folder)\n",
    "            ]\n",
    "model.fit(training_set, epochs=epochs,validation_data=val_dataset,callbacks=callbacks)"
   ]
  }
 ],
 "metadata": {
  "interpreter": {
   "hash": "8400f417db452b1fc95af2c99e1a3999f9f2bcaa41ebb17e9c014f684ca7b29d"
  },
  "kernelspec": {
   "display_name": "ml",
   "language": "python",
   "name": "ml"
  },
  "language_info": {
   "codemirror_mode": {
    "name": "ipython",
    "version": 3
   },
   "file_extension": ".py",
   "mimetype": "text/x-python",
   "name": "python",
   "nbconvert_exporter": "python",
   "pygments_lexer": "ipython3",
   "version": "3.8.9"
  },
  "orig_nbformat": 4
 },
 "nbformat": 4,
 "nbformat_minor": 2
}
