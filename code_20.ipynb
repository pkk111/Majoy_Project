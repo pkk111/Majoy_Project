{
 "cells": [
  {
   "cell_type": "code",
   "execution_count": 39,
   "metadata": {},
   "outputs": [
    {
     "name": "stdout",
     "output_type": "stream",
     "text": [
      "image_shape: [32, 32, 1]\n",
      "image_data: 198\n",
      "labels: 198\n"
     ]
    }
   ],
   "source": [
    "import tensorflow as tf\n",
    "import keras\n",
    "import os\n",
    "import cv2\n",
    "import numpy as np\n",
    "import matplotlib.pyplot as plt \n",
    "\n",
    "data = []\n",
    "labels = []\n",
    "\n",
    "\n",
    "shared_dir = '/Users/prateek/Desktop/ML/Major/augmented/'\n",
    "infected_dir = shared_dir + 'True_parasitized/'\n",
    "uninfected_dir = shared_dir + 'True_uninfected/'\n",
    "input_shape = [32, 32]\n",
    "batch = 32\n",
    "\n",
    "def reading(path):\n",
    "    mode = cv2.IMREAD_GRAYSCALE\n",
    "    img_read = cv2.imread(path, mode)\n",
    "    # img_read = cv2.cvtColor(img_read, cv2.COLOR_BGR2RGB)\n",
    "    img_read = np.float32(img_read)\n",
    "    # img_read = cv2.cvtColor(img_read, cv2.COLOR_BGR2HSV_FULL)\n",
    "    img_resize = cv2.resize(img_read, input_shape)\n",
    "    return img_resize\n",
    "\n",
    "parasitized_data = os.listdir(infected_dir)\n",
    "uninfected_data = os.listdir(uninfected_dir)\n",
    "\n",
    "max_i = 100\n",
    "i = 0\n",
    "for img in parasitized_data:\n",
    "    i+= 1\n",
    "    if i == max_i:\n",
    "        break\n",
    "    try:\n",
    "        data.append(reading(infected_dir + img))\n",
    "        labels.append(1)\n",
    "    except Exception as e:\n",
    "        print(e)\n",
    "    \n",
    "i = 0\n",
    "for img in uninfected_data:\n",
    "    i+= 1\n",
    "    if i == max_i:\n",
    "        break\n",
    "    try:\n",
    "        data.append(reading(uninfected_dir + img))\n",
    "        labels.append(0)\n",
    "    except Exception as e:\n",
    "        print(e)\n",
    "\n",
    "input_shape.append(1)\n",
    "image_data = np.array(data)\n",
    "labels = np.array(labels)\n",
    "\n",
    "print(\"image_shape:\", input_shape)\n",
    "print(\"image_data:\",len(image_data))\n",
    "print(\"labels:\",len(labels))"
   ]
  },
  {
   "cell_type": "code",
   "execution_count": 40,
   "metadata": {},
   "outputs": [
    {
     "name": "stdout",
     "output_type": "stream",
     "text": [
      "X_train: 178\n",
      "X_test: 20\n",
      "y_train: 178\n",
      "y_test: 20\n"
     ]
    }
   ],
   "source": [
    "from sklearn.model_selection import train_test_split\n",
    "from keras.utils import np_utils\n",
    "\n",
    "X_train, X_test, y_train, y_test = train_test_split(image_data, labels, test_size = 0.1,random_state = 0)\n",
    "\n",
    "print(\"X_train:\",len(X_train))\n",
    "print(\"X_test:\",len(X_test))\n",
    "print(\"y_train:\",len(y_train))\n",
    "print(\"y_test:\",len(y_test))"
   ]
  },
  {
   "cell_type": "code",
   "execution_count": 41,
   "metadata": {},
   "outputs": [
    {
     "name": "stdout",
     "output_type": "stream",
     "text": [
      "Model: \"sequential_5\"\n",
      "_________________________________________________________________\n",
      " Layer (type)                Output Shape              Param #   \n",
      "=================================================================\n",
      " conv2d_10 (Conv2D)          (None, 30, 30, 4)         40        \n",
      "                                                                 \n",
      " max_pooling2d_10 (MaxPoolin  (None, 15, 15, 4)        0         \n",
      " g2D)                                                            \n",
      "                                                                 \n",
      " conv2d_11 (Conv2D)          (None, 12, 12, 8)         520       \n",
      "                                                                 \n",
      " max_pooling2d_11 (MaxPoolin  (None, 6, 6, 8)          0         \n",
      " g2D)                                                            \n",
      "                                                                 \n",
      " dropout_5 (Dropout)         (None, 6, 6, 8)           0         \n",
      "                                                                 \n",
      " flatten_5 (Flatten)         (None, 288)               0         \n",
      "                                                                 \n",
      " dense_10 (Dense)            (None, 16)                4624      \n",
      "                                                                 \n",
      " feature_extractor (Dropout)  (None, 16)               0         \n",
      "                                                                 \n",
      " dense_11 (Dense)            (None, 1)                 17        \n",
      "                                                                 \n",
      "=================================================================\n",
      "Total params: 5,201\n",
      "Trainable params: 5,201\n",
      "Non-trainable params: 0\n",
      "_________________________________________________________________\n"
     ]
    }
   ],
   "source": [
    "from keras.layers import Dense,Conv2D,Flatten,MaxPooling2D,Dropout\n",
    "from keras import Sequential\n",
    "\n",
    "dropout_rate = 0.1\n",
    "\n",
    "model = Sequential()\n",
    "model.add(Conv2D(4, (3, 3), activation='relu', input_shape=input_shape))\n",
    "model.add(MaxPooling2D(pool_size=(2, 2)))\n",
    "model.add(Conv2D(8, kernel_size=(4, 4), activation='relu'))\n",
    "model.add(MaxPooling2D(pool_size=(2, 2)))\n",
    "model.add(Dropout(dropout_rate))\n",
    "model.add(Flatten())\n",
    "model.add(Dense(16, activation = 'relu'))\n",
    "model.add(Dropout(dropout_rate, name='feature_extractor'))\n",
    "model.add(Dense(1, activation='softmax'))\n",
    "model.summary()\n"
   ]
  },
  {
   "cell_type": "code",
   "execution_count": 47,
   "metadata": {},
   "outputs": [
    {
     "name": "stdout",
     "output_type": "stream",
     "text": [
      "Epoch 1/30\n"
     ]
    },
    {
     "name": "stderr",
     "output_type": "stream",
     "text": [
      "2022-04-25 14:45:34.931324: I tensorflow/core/grappler/optimizers/custom_graph_optimizer_registry.cc:113] Plugin optimizer for device_type GPU is enabled.\n"
     ]
    },
    {
     "name": "stdout",
     "output_type": "stream",
     "text": [
      "5/5 [==============================] - 1s 125ms/step - loss: 0.3930 - accuracy: 0.4813 - binary_accuracy: 0.4813 - val_loss: 1.2119 - val_accuracy: 0.5556 - val_binary_accuracy: 0.5556\n",
      "Epoch 2/30\n",
      "1/5 [=====>........................] - ETA: 0s - loss: 0.1116 - accuracy: 0.5312 - binary_accuracy: 0.5312"
     ]
    },
    {
     "name": "stderr",
     "output_type": "stream",
     "text": [
      "2022-04-25 14:45:35.856275: I tensorflow/core/grappler/optimizers/custom_graph_optimizer_registry.cc:113] Plugin optimizer for device_type GPU is enabled.\n"
     ]
    },
    {
     "name": "stdout",
     "output_type": "stream",
     "text": [
      "5/5 [==============================] - 0s 19ms/step - loss: 0.3780 - accuracy: 0.4813 - binary_accuracy: 0.4813 - val_loss: 1.1543 - val_accuracy: 0.5556 - val_binary_accuracy: 0.5556\n",
      "Epoch 3/30\n",
      "5/5 [==============================] - 0s 22ms/step - loss: 0.4591 - accuracy: 0.4813 - binary_accuracy: 0.4813 - val_loss: 1.1235 - val_accuracy: 0.5556 - val_binary_accuracy: 0.5556\n",
      "Epoch 4/30\n",
      "5/5 [==============================] - 0s 24ms/step - loss: 0.3317 - accuracy: 0.4813 - binary_accuracy: 0.4813 - val_loss: 0.8920 - val_accuracy: 0.5556 - val_binary_accuracy: 0.5556\n",
      "Epoch 5/30\n",
      "5/5 [==============================] - 0s 30ms/step - loss: 0.3426 - accuracy: 0.4813 - binary_accuracy: 0.4813 - val_loss: 0.6496 - val_accuracy: 0.5556 - val_binary_accuracy: 0.5556\n",
      "Epoch 6/30\n",
      "5/5 [==============================] - 0s 25ms/step - loss: 0.2899 - accuracy: 0.4813 - binary_accuracy: 0.4813 - val_loss: 0.7146 - val_accuracy: 0.5556 - val_binary_accuracy: 0.5556\n",
      "Epoch 7/30\n",
      "5/5 [==============================] - 0s 24ms/step - loss: 0.2749 - accuracy: 0.4813 - binary_accuracy: 0.4813 - val_loss: 0.8828 - val_accuracy: 0.5556 - val_binary_accuracy: 0.5556\n",
      "Epoch 8/30\n",
      "5/5 [==============================] - 0s 21ms/step - loss: 0.2986 - accuracy: 0.4813 - binary_accuracy: 0.4813 - val_loss: 1.1160 - val_accuracy: 0.5556 - val_binary_accuracy: 0.5556\n",
      "Epoch 9/30\n",
      "5/5 [==============================] - 0s 21ms/step - loss: 0.2442 - accuracy: 0.4813 - binary_accuracy: 0.4813 - val_loss: 1.1427 - val_accuracy: 0.5556 - val_binary_accuracy: 0.5556\n",
      "Epoch 10/30\n",
      "5/5 [==============================] - 0s 22ms/step - loss: 0.2554 - accuracy: 0.4813 - binary_accuracy: 0.4813 - val_loss: 1.0995 - val_accuracy: 0.5556 - val_binary_accuracy: 0.5556\n",
      "Epoch 11/30\n",
      "5/5 [==============================] - 0s 23ms/step - loss: 0.2258 - accuracy: 0.4813 - binary_accuracy: 0.4813 - val_loss: 1.0296 - val_accuracy: 0.5556 - val_binary_accuracy: 0.5556\n",
      "Epoch 12/30\n",
      "5/5 [==============================] - 0s 19ms/step - loss: 0.2400 - accuracy: 0.4813 - binary_accuracy: 0.4813 - val_loss: 0.8906 - val_accuracy: 0.5556 - val_binary_accuracy: 0.5556\n",
      "Epoch 13/30\n",
      "5/5 [==============================] - 0s 20ms/step - loss: 0.1973 - accuracy: 0.4813 - binary_accuracy: 0.4813 - val_loss: 0.9549 - val_accuracy: 0.5556 - val_binary_accuracy: 0.5556\n",
      "Epoch 14/30\n",
      "5/5 [==============================] - 0s 22ms/step - loss: 0.2467 - accuracy: 0.4813 - binary_accuracy: 0.4813 - val_loss: 0.8895 - val_accuracy: 0.5556 - val_binary_accuracy: 0.5556\n",
      "Epoch 15/30\n",
      "5/5 [==============================] - 0s 21ms/step - loss: 0.1809 - accuracy: 0.4813 - binary_accuracy: 0.4813 - val_loss: 0.8837 - val_accuracy: 0.5556 - val_binary_accuracy: 0.5556\n",
      "Epoch 16/30\n",
      "5/5 [==============================] - 0s 23ms/step - loss: 0.1731 - accuracy: 0.4813 - binary_accuracy: 0.4813 - val_loss: 0.8608 - val_accuracy: 0.5556 - val_binary_accuracy: 0.5556\n",
      "Epoch 17/30\n",
      "5/5 [==============================] - 0s 25ms/step - loss: 0.2206 - accuracy: 0.4813 - binary_accuracy: 0.4813 - val_loss: 0.8467 - val_accuracy: 0.5556 - val_binary_accuracy: 0.5556\n",
      "Epoch 18/30\n",
      "5/5 [==============================] - 0s 27ms/step - loss: 0.1591 - accuracy: 0.4813 - binary_accuracy: 0.4813 - val_loss: 0.8337 - val_accuracy: 0.5556 - val_binary_accuracy: 0.5556\n",
      "Epoch 19/30\n",
      "5/5 [==============================] - 0s 31ms/step - loss: 0.1598 - accuracy: 0.4813 - binary_accuracy: 0.4813 - val_loss: 0.8213 - val_accuracy: 0.5556 - val_binary_accuracy: 0.5556\n",
      "Epoch 20/30\n",
      "5/5 [==============================] - 0s 25ms/step - loss: 0.1337 - accuracy: 0.4813 - binary_accuracy: 0.4813 - val_loss: 0.8173 - val_accuracy: 0.5556 - val_binary_accuracy: 0.5556\n",
      "Epoch 21/30\n",
      "5/5 [==============================] - 0s 23ms/step - loss: 0.1220 - accuracy: 0.4813 - binary_accuracy: 0.4813 - val_loss: 0.7904 - val_accuracy: 0.5556 - val_binary_accuracy: 0.5556\n",
      "Epoch 22/30\n",
      "5/5 [==============================] - 0s 21ms/step - loss: 0.1133 - accuracy: 0.4813 - binary_accuracy: 0.4813 - val_loss: 0.8567 - val_accuracy: 0.5556 - val_binary_accuracy: 0.5556\n",
      "Epoch 23/30\n",
      "5/5 [==============================] - 0s 19ms/step - loss: 0.1213 - accuracy: 0.4813 - binary_accuracy: 0.4813 - val_loss: 0.8945 - val_accuracy: 0.5556 - val_binary_accuracy: 0.5556\n",
      "Epoch 24/30\n",
      "5/5 [==============================] - 0s 18ms/step - loss: 0.1165 - accuracy: 0.4813 - binary_accuracy: 0.4813 - val_loss: 0.9399 - val_accuracy: 0.5556 - val_binary_accuracy: 0.5556\n",
      "Epoch 25/30\n",
      "5/5 [==============================] - 0s 16ms/step - loss: 0.1183 - accuracy: 0.4813 - binary_accuracy: 0.4813 - val_loss: 1.0013 - val_accuracy: 0.5556 - val_binary_accuracy: 0.5556\n",
      "Epoch 26/30\n",
      "5/5 [==============================] - 0s 17ms/step - loss: 0.1568 - accuracy: 0.4813 - binary_accuracy: 0.4813 - val_loss: 0.9861 - val_accuracy: 0.5556 - val_binary_accuracy: 0.5556\n",
      "Epoch 27/30\n",
      "5/5 [==============================] - 0s 18ms/step - loss: 0.1383 - accuracy: 0.4813 - binary_accuracy: 0.4813 - val_loss: 1.0710 - val_accuracy: 0.5556 - val_binary_accuracy: 0.5556\n",
      "Epoch 28/30\n",
      "5/5 [==============================] - 0s 19ms/step - loss: 0.1213 - accuracy: 0.4813 - binary_accuracy: 0.4813 - val_loss: 1.0040 - val_accuracy: 0.5556 - val_binary_accuracy: 0.5556\n",
      "Epoch 29/30\n",
      "5/5 [==============================] - 0s 25ms/step - loss: 0.0928 - accuracy: 0.4813 - binary_accuracy: 0.4813 - val_loss: 0.9420 - val_accuracy: 0.5556 - val_binary_accuracy: 0.5556\n",
      "Epoch 30/30\n",
      "5/5 [==============================] - 0s 27ms/step - loss: 0.1475 - accuracy: 0.4813 - binary_accuracy: 0.4813 - val_loss: 0.9004 - val_accuracy: 0.5556 - val_binary_accuracy: 0.5556\n"
     ]
    }
   ],
   "source": [
    "optimizer = tf.keras.optimizers.SGD(learning_rate=0.001, momentum=0.9)\n",
    "epochs = 30\n",
    "\n",
    "accuracy_metrics = ['accuracy', 'binary_accuracy']\n",
    "model.compile(optimizer=optimizer, loss=\"binary_crossentropy\", metrics=accuracy_metrics)\n",
    "\n",
    "history = model.fit(X_train, y_train, epochs=epochs, batch_size=32, validation_split=0.1)"
   ]
  },
  {
   "cell_type": "code",
   "execution_count": 48,
   "metadata": {},
   "outputs": [
    {
     "name": "stdout",
     "output_type": "stream",
     "text": [
      "dict_keys(['loss', 'accuracy', 'binary_accuracy', 'val_loss', 'val_accuracy', 'val_binary_accuracy'])\n"
     ]
    },
    {
     "data": {
      "image/png": "[encoded data removed]",
      "text/plain": [
       "<Figure size 432x288 with 1 Axes>"
      ]
     },
     "metadata": {
      "needs_background": "light"
     },
     "output_type": "display_data"
    }
   ],
   "source": [
    "print(history.history.keys())\n",
    "plt.plot(history.history['loss'])\n",
    "plt.plot(history.history['val_loss'])\n",
    "plt.title('Model Losses')\n",
    "plt.ylabel('Loss')\n",
    "plt.xlabel('#f Iterations')\n",
    "plt.legend(['Train', 'Test'], loc='upper left')\n",
    "plt.show()"
   ]
  },
  {
   "cell_type": "code",
   "execution_count": 49,
   "metadata": {},
   "outputs": [
    {
     "name": "stdout",
     "output_type": "stream",
     "text": [
      "dict_keys(['loss', 'accuracy', 'binary_accuracy', 'val_loss', 'val_accuracy', 'val_binary_accuracy'])\n"
     ]
    },
    {
     "data": {
      "image/png": "[encoded data removed]",
      "text/plain": [
       "<Figure size 432x288 with 1 Axes>"
      ]
     },
     "metadata": {
      "needs_background": "light"
     },
     "output_type": "display_data"
    }
   ],
   "source": [
    "print(history.history.keys())\n",
    "plt.plot(history.history['accuracy'])\n",
    "plt.plot(history.history['val_accuracy'])\n",
    "plt.title('Model Accuracy')\n",
    "plt.ylabel('Accuracy')\n",
    "plt.xlabel('#f Iterations')\n",
    "plt.legend(['Train', 'Test'], loc='upper left')\n",
    "plt.show()"
   ]
  },
  {
   "cell_type": "code",
   "execution_count": 50,
   "metadata": {},
   "outputs": [
    {
     "name": "stdout",
     "output_type": "stream",
     "text": [
      "WARNING:tensorflow:5 out of the last 6 calls to <function Model.make_predict_function.<locals>.predict_function at 0x2d8c4a940> triggered tf.function retracing. Tracing is expensive and the excessive number of tracings could be due to (1) creating @tf.function repeatedly in a loop, (2) passing tensors with different shapes, (3) passing Python objects instead of tensors. For (1), please define your @tf.function outside of the loop. For (2), @tf.function has experimental_relax_shapes=True option that relaxes argument shapes that can avoid unnecessary retracing. For (3), please refer to https://www.tensorflow.org/guide/function#controlling_retracing and https://www.tensorflow.org/api_docs/python/tf/function for  more details.\n",
      "[[1.]\n",
      " [1.]\n",
      " [1.]\n",
      " [1.]\n",
      " [1.]\n",
      " [1.]\n",
      " [1.]\n",
      " [1.]\n",
      " [1.]\n",
      " [1.]\n",
      " [1.]\n",
      " [1.]\n",
      " [1.]\n",
      " [1.]\n",
      " [1.]\n",
      " [1.]\n",
      " [1.]\n",
      " [1.]\n",
      " [1.]\n",
      " [1.]]\n"
     ]
    },
    {
     "name": "stderr",
     "output_type": "stream",
     "text": [
      "2022-04-25 14:45:40.425368: I tensorflow/core/grappler/optimizers/custom_graph_optimizer_registry.cc:113] Plugin optimizer for device_type GPU is enabled.\n"
     ]
    }
   ],
   "source": [
    "y_pred = model.predict(X_test)\n",
    "print(y_pred)"
   ]
  },
  {
   "cell_type": "code",
   "execution_count": 51,
   "metadata": {},
   "outputs": [
    {
     "name": "stdout",
     "output_type": "stream",
     "text": [
      "[[ 0  8]\n",
      " [ 0 12]]\n",
      "0.6\n",
      "0.6\n"
     ]
    }
   ],
   "source": [
    "from sklearn.metrics._plot.confusion_matrix import confusion_matrix\n",
    "from sklearn.metrics import accuracy_score, precision_score, recall_score\n",
    "\n",
    "print(confusion_matrix( y_test, y_pred ))\n",
    "print( precision_score( y_test, y_pred, average='micro') )\n",
    "print( recall_score( y_test, y_pred, average='micro') )"
   ]
  }
 ],
 "metadata": {
  "interpreter": {
   "hash": "bb0f8d9ac0bf158b3a0eba4bcd9d041f48335534644350786f9b21c061b4b3a8"
  },
  "kernelspec": {
   "display_name": "ml",
   "language": "python",
   "name": "ml"
  },
  "language_info": {
   "codemirror_mode": {
    "name": "ipython",
    "version": 3
   },
   "file_extension": ".py",
   "mimetype": "text/x-python",
   "name": "python",
   "nbconvert_exporter": "python",
   "pygments_lexer": "ipython3",
   "version": "3.8.9"
  },
  "orig_nbformat": 4
 },
 "nbformat": 4,
 "nbformat_minor": 2
}
