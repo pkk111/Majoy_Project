{
 "cells": [
  {
   "cell_type": "code",
   "execution_count": 2,
   "metadata": {},
   "outputs": [
    {
     "name": "stdout",
     "output_type": "stream",
     "text": [
      "image_shape: [32, 32]\n",
      "image_data: 4\n",
      "labels: 4\n"
     ]
    }
   ],
   "source": [
    "import tensorflow as tf\n",
    "import keras\n",
    "import os\n",
    "import cv2\n",
    "import numpy as np\n",
    "import matplotlib.pyplot as plt \n",
    "\n",
    "data = []\n",
    "labels = []\n",
    "\n",
    "\n",
    "shared_dir = '/Users/prateek/Desktop/ML/Major/augmented/'\n",
    "infected_dir = shared_dir + 'True_parasitized/'\n",
    "uninfected_dir = shared_dir + 'True_uninfected/'\n",
    "input_shape = [32, 32]\n",
    "batch = 32\n",
    "\n",
    "def reading(path):\n",
    "    mode = cv2.IMREAD_GRAYSCALE\n",
    "    img_read = cv2.imread(path)#, mode)\n",
    "    # img_read = cv2.cvtColor(img_read, cv2.COLOR_BGR2RGB)\n",
    "    img_read = np.float32(img_read)\n",
    "    img_read = cv2.cvtColor(img_read, cv2.COLOR_BGR2HSV_FULL)\n",
    "    img_resize = cv2.resize(img_read, input_shape)\n",
    "    return img_resize\n",
    "\n",
    "parasitized_data = os.listdir(infected_dir)\n",
    "uninfected_data = os.listdir(uninfected_dir)\n",
    "\n",
    "max_i = 3\n",
    "i = 0\n",
    "for img in parasitized_data:\n",
    "    i+= 1\n",
    "    if i == max_i:\n",
    "        break\n",
    "    try:\n",
    "        data.append(reading(infected_dir + img))\n",
    "        labels.append(1)\n",
    "    except Exception as e:\n",
    "        print(e)\n",
    "    \n",
    "i = 0\n",
    "for img in uninfected_data:\n",
    "    i+= 1\n",
    "    if i == max_i:\n",
    "        break\n",
    "    try:\n",
    "        data.append(reading(uninfected_dir + img))\n",
    "        labels.append(0)\n",
    "    except Exception as e:\n",
    "        print(e)\n",
    "\n",
    "image_data = np.array(data)\n",
    "labels = np.array(labels)\n",
    "# input_shape.append(3)\n",
    "\n",
    "print(\"image_shape:\", input_shape)\n",
    "print(\"image_data:\",len(image_data))\n",
    "print(\"labels:\",len(labels))"
   ]
  },
  {
   "cell_type": "code",
   "execution_count": 3,
   "metadata": {},
   "outputs": [
    {
     "name": "stdout",
     "output_type": "stream",
     "text": [
      "(0.0, 0.32935431599617004, (0, 0), (31, 23))\n"
     ]
    },
    {
     "data": {
      "image/png": "[encoded data removed]",
      "text/plain": [
       "<Figure size 720x576 with 3 Axes>"
      ]
     },
     "metadata": {
      "needs_background": "light"
     },
     "output_type": "display_data"
    }
   ],
   "source": [
    "image = data[1]\n",
    "H, S, V = image[:,:,0],image[:,:,1],image[:,:,2]\n",
    "mm = cv2.minMaxLoc(S)\n",
    "print(mm)\n",
    "\n",
    "plt.figure(figsize=(10,8))\n",
    "plt.subplot(311)                             #plot in the first cell\n",
    "plt.subplots_adjust(hspace=.5)\n",
    "plt.title(\"Hue\")\n",
    "plt.hist(np.ndarray.flatten(H), bins=180)\n",
    "plt.subplot(312)                             #plot in the second cell\n",
    "plt.title(\"Saturation\")\n",
    "plt.hist(np.ndarray.flatten(S), bins=128)\n",
    "plt.subplot(313)                             #plot in the third cell\n",
    "plt.title(\"Luminosity Value\")\n",
    "plt.hist(np.ndarray.flatten(V), bins=128)\n",
    "plt.show()"
   ]
  },
  {
   "cell_type": "code",
   "execution_count": 4,
   "metadata": {},
   "outputs": [
    {
     "name": "stdout",
     "output_type": "stream",
     "text": [
      "[0, 5, 10, 15, 20, 25, 30, 35, 40, 45, 50, 55, 60, 65, 70, 75, 80, 85, 90, 95, 100, 105, 110, 115, 120, 125, 130, 135, 140, 145, 150, 155, 160, 165, 170, 175, 180, 185, 190, 195, 200, 205, 210, 215, 220, 225, 230, 235, 240, 245, 250, 255, 260, 265, 270, 275, 280, 285, 290, 295, 300, 305, 310, 315, 320, 325, 330, 335, 340, 345, 350, 355, 360]\n"
     ]
    },
    {
     "name": "stderr",
     "output_type": "stream",
     "text": [
      "/var/folders/49/1qk_3w0x0_7_cg76ytz5l1hr0000gn/T/ipykernel_10954/3940665972.py:6: VisibleDeprecationWarning: Creating an ndarray from ragged nested sequences (which is a list-or-tuple of lists-or-tuples-or ndarrays with different lengths or shapes) is deprecated. If you meant to do this, you must specify 'dtype=object' when creating the ndarray.\n",
      "  data = np.array(histo)\n"
     ]
    }
   ],
   "source": [
    "bins = [i * 5 for i in range(0,36*2+1)]\n",
    "print(bins)\n",
    "histo = []\n",
    "for image in image_data:\n",
    "    histo.append(np.histogram(image, bins=bins))\n",
    "data = np.array(histo)"
   ]
  },
  {
   "cell_type": "code",
   "execution_count": null,
   "metadata": {},
   "outputs": [],
   "source": [
    "from sklearn.model_selection import train_test_split\n",
    "from keras.utils import np_utils\n",
    "\n",
    "X_train, X_test, y_train, y_test = train_test_split(data, labels, test_size = 0.1,random_state = 0)\n",
    "\n",
    "y_train = np_utils.to_categorical(y_train, num_classes = 2)\n",
    "y_test = np_utils.to_categorical(y_test, num_classes = 2)\n",
    "\n",
    "print(\"X_train:\",len(X_train))\n",
    "print(\"X_test:\",len(X_test))\n",
    "print(\"y_train:\",len(y_train))\n",
    "print(\"y_test:\",len(y_test))"
   ]
  },
  {
   "cell_type": "code",
   "execution_count": 6,
   "metadata": {},
   "outputs": [],
   "source": [
    "from sklearn.svm import SVC\n",
    "classifier = SVC(kernel = 'rbf',random_state = 3)\n",
    "classifier.fit(X_train, y_train)\n",
    "y_pred = classifier.predict(X_test)"
   ]
  },
  {
   "cell_type": "code",
   "execution_count": null,
   "metadata": {},
   "outputs": [
    {
     "name": "stdout",
     "output_type": "stream",
     "text": [
      "[[10148   635]\n",
      " [ 1306 13209]]\n",
      "0.9232745671594592\n",
      "0.9232745671594592\n"
     ]
    }
   ],
   "source": [
    "from sklearn.metrics._plot.confusion_matrix import confusion_matrix\n",
    "from sklearn.metrics import accuracy_score, precision_score, recall_score\n",
    "\n",
    "print(confusion_matrix( y_test, y_pred ))\n",
    "print(accuracy_score(y_test, y_pred))\n",
    "print( precision_score( y_test, y_pred, average='micro') )\n",
    "print( recall_score( y_test, y_pred, average='micro') )"
   ]
  }
 ],
 "metadata": {
  "interpreter": {
   "hash": "bb0f8d9ac0bf158b3a0eba4bcd9d041f48335534644350786f9b21c061b4b3a8"
  },
  "kernelspec": {
   "display_name": "ml",
   "language": "python",
   "name": "ml"
  },
  "language_info": {
   "codemirror_mode": {
    "name": "ipython",
    "version": 3
   },
   "file_extension": ".py",
   "mimetype": "text/x-python",
   "name": "python",
   "nbconvert_exporter": "python",
   "pygments_lexer": "ipython3",
   "version": "3.8.9"
  },
  "orig_nbformat": 4
 },
 "nbformat": 4,
 "nbformat_minor": 2
}
