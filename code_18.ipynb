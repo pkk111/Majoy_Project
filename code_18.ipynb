{
 "cells": [
  {
   "cell_type": "code",
   "execution_count": 17,
   "metadata": {},
   "outputs": [
    {
     "name": "stdout",
     "output_type": "stream",
     "text": [
      "image_shape: [32, 32]\n",
      "image_data: 261610\n",
      "labels: 261610\n"
     ]
    }
   ],
   "source": [
    "import tensorflow as tf\n",
    "import keras\n",
    "import os\n",
    "import cv2\n",
    "import numpy as np\n",
    "import matplotlib.pyplot as plt \n",
    "\n",
    "data = []\n",
    "labels = []\n",
    "\n",
    "\n",
    "shared_dir = '/Users/prateek/Desktop/ML/Major/augmented/'\n",
    "infected_dir = shared_dir + 'True_parasitized/'\n",
    "uninfected_dir = shared_dir + 'True_uninfected/'\n",
    "input_shape = [32, 32]\n",
    "batch = 32\n",
    "\n",
    "def reading(path):\n",
    "    mode = cv2.IMREAD_GRAYSCALE\n",
    "    img_read = cv2.imread(path)#, mode)\n",
    "    # img_read = cv2.cvtColor(img_read, cv2.COLOR_BGR2RGB)\n",
    "    img_read = np.float32(img_read)\n",
    "    img_read = cv2.cvtColor(img_read, cv2.COLOR_BGR2HSV_FULL)\n",
    "    img_resize = cv2.resize(img_read, input_shape)\n",
    "    return img_resize\n",
    "\n",
    "parasitized_data = os.listdir(infected_dir)\n",
    "uninfected_data = os.listdir(uninfected_dir)\n",
    "\n",
    "for img in parasitized_data:\n",
    "    try:\n",
    "        data.append(reading(infected_dir + img))\n",
    "        labels.append(1)\n",
    "    except Exception as e:\n",
    "        print(e)\n",
    "    \n",
    "for img in uninfected_data:\n",
    "    try:\n",
    "        data.append(reading(uninfected_dir + img))\n",
    "        labels.append(0)\n",
    "    except Exception as e:\n",
    "        print(e)\n",
    "\n",
    "# shared_dir = '/Users/prateek/Desktop/ML/Major/augmented/'\n",
    "# infected_dir = shared_dir + 'False_uninfected/'\n",
    "# uninfected_dir = shared_dir + 'False_parasitized/'\n",
    "\n",
    "# parasitized_data = os.listdir(infected_dir)\n",
    "# uninfected_data = os.listdir(uninfected_dir)\n",
    "\n",
    "\n",
    "# for img in parasitized_data:\n",
    "#     try:\n",
    "#         data.append(reading(infected_dir + img))\n",
    "#         labels.append(1)\n",
    "#     except Exception as e:\n",
    "#         print(e)\n",
    "    \n",
    "# for img in uninfected_data:\n",
    "#     try:\n",
    "#         data.append(reading(uninfected_dir + img))\n",
    "#         labels.append(0)\n",
    "#     except Exception as e:\n",
    "#         print(e)\n",
    "\n",
    "image_data = np.array(data)\n",
    "labels = np.array(labels)\n",
    "# input_shape.append(3)\n",
    "\n",
    "print(\"image_shape:\", input_shape)\n",
    "print(\"image_data:\",len(image_data))\n",
    "print(\"labels:\",len(labels))"
   ]
  },
  {
   "cell_type": "code",
   "execution_count": 18,
   "metadata": {},
   "outputs": [
    {
     "name": "stdout",
     "output_type": "stream",
     "text": [
      "[0, 5, 10, 15, 20, 25, 30, 35, 40, 45, 50, 55, 60, 65, 70, 75, 80, 85, 90, 95, 100, 105, 110, 115, 120, 125, 130, 135, 140, 145, 150, 155, 160, 165, 170, 175, 180, 185, 190, 195, 200, 205, 210, 215, 220, 225, 230, 235, 240, 245, 250, 255, 260, 265, 270, 275, 280, 285, 290, 295, 300, 305, 310, 315, 320, 325, 330, 335, 340, 345, 350, 355, 360]\n"
     ]
    }
   ],
   "source": [
    "bins = [i * 5 for i in range(0,36*2+1)]\n",
    "print(bins)\n",
    "histo = []\n",
    "for image in image_data:\n",
    "    hist, bin = np.histogram(image, bins=bins)\n",
    "    histo.append(hist)\n",
    "data = np.asarray(histo)"
   ]
  },
  {
   "cell_type": "code",
   "execution_count": 19,
   "metadata": {},
   "outputs": [
    {
     "name": "stdout",
     "output_type": "stream",
     "text": [
      "X_train: 235449\n",
      "X_test: 26161\n",
      "y_train: 235449\n",
      "y_test: 26161\n"
     ]
    }
   ],
   "source": [
    "from sklearn.model_selection import train_test_split\n",
    "from keras.utils import np_utils\n",
    "\n",
    "X_train, X_test, y_train, y_test = train_test_split(data, labels, test_size = 0.1,random_state = 0)\n",
    "\n",
    "# y_train = np_utils.to_categorical(y_train, num_classes = 2)\n",
    "# y_test = np_utils.to_categorical(y_test, num_classes = 2)\n",
    "\n",
    "print(\"X_train:\",len(X_train))\n",
    "print(\"X_test:\",len(X_test))\n",
    "print(\"y_train:\",len(y_train))\n",
    "print(\"y_test:\",len(y_test))"
   ]
  },
  {
   "cell_type": "code",
   "execution_count": 20,
   "metadata": {},
   "outputs": [
    {
     "data": {
      "text/plain": [
       "GaussianNB()"
      ]
     },
     "execution_count": 20,
     "metadata": {},
     "output_type": "execute_result"
    }
   ],
   "source": [
    "from sklearn.naive_bayes import GaussianNB\n",
    "classifier = GaussianNB()\n",
    "classifier.fit(X_train, y_train)"
   ]
  },
  {
   "cell_type": "code",
   "execution_count": 21,
   "metadata": {},
   "outputs": [],
   "source": [
    "y_pred = classifier.predict(X_test)"
   ]
  },
  {
   "cell_type": "code",
   "execution_count": 22,
   "metadata": {},
   "outputs": [
    {
     "name": "stdout",
     "output_type": "stream",
     "text": [
      "[0 1 1 ... 0 1 1]\n",
      "[0 0 1 ... 0 1 0]\n"
     ]
    }
   ],
   "source": [
    "print(y_pred)\n",
    "print(y_test)"
   ]
  },
  {
   "cell_type": "code",
   "execution_count": 25,
   "metadata": {},
   "outputs": [
    {
     "name": "stdout",
     "output_type": "stream",
     "text": [
      "[[ 5742  7230]\n",
      " [ 3041 10148]]\n",
      "0.607392683765911\n",
      "0.607392683765911\n",
      "0.607392683765911\n"
     ]
    }
   ],
   "source": [
    "from sklearn.metrics._plot.confusion_matrix import confusion_matrix\n",
    "from sklearn.metrics import accuracy_score, precision_score, recall_score\n",
    "\n",
    "print(confusion_matrix( y_test, y_pred ))\n",
    "print(accuracy_score(y_test, y_pred))\n",
    "print(precision_score( y_test, y_pred, average='micro') )\n",
    "print(recall_score( y_test, y_pred, average='micro') )"
   ]
  }
 ],
 "metadata": {
  "interpreter": {
   "hash": "bb0f8d9ac0bf158b3a0eba4bcd9d041f48335534644350786f9b21c061b4b3a8"
  },
  "kernelspec": {
   "display_name": "ml",
   "language": "python",
   "name": "ml"
  },
  "language_info": {
   "codemirror_mode": {
    "name": "ipython",
    "version": 3
   },
   "file_extension": ".py",
   "mimetype": "text/x-python",
   "name": "python",
   "nbconvert_exporter": "python",
   "pygments_lexer": "ipython3",
   "version": "3.8.9"
  },
  "orig_nbformat": 4
 },
 "nbformat": 4,
 "nbformat_minor": 2
}
