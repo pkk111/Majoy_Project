{
 "cells": [
  {
   "cell_type": "code",
   "execution_count": 94,
   "metadata": {},
   "outputs": [
    {
     "name": "stdout",
     "output_type": "stream",
     "text": [
      "image_shape: [32, 32]\n",
      "image_data: 8\n",
      "labels: 8\n"
     ]
    }
   ],
   "source": [
    "import tensorflow as tf\n",
    "import keras\n",
    "import os\n",
    "import cv2\n",
    "import numpy as np\n",
    "import matplotlib.pyplot as plt \n",
    "\n",
    "data = []\n",
    "labels = []\n",
    "\n",
    "\n",
    "shared_dir = '/Users/prateek/Desktop/ML/Major/augmented/'\n",
    "infected_dir = shared_dir + 'True_parasitized/'\n",
    "uninfected_dir = shared_dir + 'True_uninfected/'\n",
    "input_shape = [32, 32]\n",
    "batch = 32\n",
    "\n",
    "def reading(path):\n",
    "    mode = cv2.IMREAD_GRAYSCALE\n",
    "    img_read = cv2.imread(path)#, mode)\n",
    "    # img_read = cv2.cvtColor(img_read, cv2.COLOR_BGR2RGB)\n",
    "    img_read = np.float32(img_read)\n",
    "    img_read = cv2.cvtColor(img_read, cv2.COLOR_BGR2HSV_FULL)\n",
    "    img_resize = cv2.resize(img_read, input_shape)\n",
    "    return img_resize\n",
    "\n",
    "parasitized_data = os.listdir(infected_dir)\n",
    "uninfected_data = os.listdir(uninfected_dir)\n",
    "\n",
    "max_i = 3\n",
    "i = 0\n",
    "for img in parasitized_data:\n",
    "    i+= 1\n",
    "    if i == max_i:\n",
    "        break\n",
    "    try:\n",
    "        data.append(reading(infected_dir + img))\n",
    "        labels.append(1)\n",
    "    except Exception as e:\n",
    "        print(e)\n",
    "    \n",
    "i = 0\n",
    "for img in uninfected_data:\n",
    "    i+= 1\n",
    "    if i == max_i:\n",
    "        break\n",
    "    try:\n",
    "        data.append(reading(uninfected_dir + img))\n",
    "        labels.append(0)\n",
    "    except Exception as e:\n",
    "        print(e)\n",
    "\n",
    "shared_dir = '/Users/prateek/Desktop/ML/Major/augmented/'\n",
    "infected_dir = shared_dir + 'False_uninfected/'\n",
    "uninfected_dir = shared_dir + 'False_parasitized/'\n",
    "\n",
    "parasitized_data = os.listdir(infected_dir)\n",
    "uninfected_data = os.listdir(uninfected_dir)\n",
    "\n",
    "\n",
    "i = 0\n",
    "for img in parasitized_data:\n",
    "    i+= 1\n",
    "    if i == max_i:\n",
    "        break\n",
    "    try:\n",
    "        data.append(reading(infected_dir + img))\n",
    "        labels.append(1)\n",
    "    except Exception as e:\n",
    "        print(e)\n",
    "        \n",
    "i = 0\n",
    "for img in uninfected_data:\n",
    "    i+= 1\n",
    "    if i == max_i:\n",
    "        break\n",
    "    try:\n",
    "        data.append(reading(uninfected_dir + img))\n",
    "        labels.append(0)\n",
    "    except Exception as e:\n",
    "        print(e)\n",
    "\n",
    "image_data = np.array(data)\n",
    "labels = np.array(labels)\n",
    "# input_shape.append(3)\n",
    "\n",
    "print(\"image_shape:\", input_shape)\n",
    "print(\"image_data:\",len(image_data))\n",
    "print(\"labels:\",len(labels))"
   ]
  },
  {
   "cell_type": "code",
   "execution_count": 95,
   "metadata": {},
   "outputs": [
    {
     "name": "stdout",
     "output_type": "stream",
     "text": [
      "X_train: 7\n",
      "X_test: 1\n",
      "y_train: 7\n",
      "y_test: 1\n"
     ]
    }
   ],
   "source": [
    "from sklearn.model_selection import train_test_split\n",
    "from keras.utils import np_utils\n",
    "\n",
    "X_train, X_test, y_train, y_test = train_test_split(image_data, labels, test_size = 0.1,random_state = 0)\n",
    "\n",
    "y_train = np_utils.to_categorical(y_train, num_classes = 2)\n",
    "y_test = np_utils.to_categorical(y_test, num_classes = 2)\n",
    "\n",
    "print(\"X_train:\",len(X_train))\n",
    "print(\"X_test:\",len(X_test))\n",
    "print(\"y_train:\",len(y_train))\n",
    "print(\"y_test:\",len(y_test))"
   ]
  },
  {
   "cell_type": "code",
   "execution_count": 96,
   "metadata": {},
   "outputs": [
    {
     "name": "stderr",
     "output_type": "stream",
     "text": [
      "Clipping input data to the valid range for imshow with RGB data ([0..1] for floats or [0..255] for integers).\n"
     ]
    },
    {
     "data": {
      "text/plain": [
       "<matplotlib.image.AxesImage at 0x177a80b50>"
      ]
     },
     "execution_count": 96,
     "metadata": {},
     "output_type": "execute_result"
    },
    {
     "data": {
      "image/png": "[encoded data removed]",
      "text/plain": [
       "<Figure size 432x288 with 1 Axes>"
      ]
     },
     "metadata": {
      "needs_background": "light"
     },
     "output_type": "display_data"
    }
   ],
   "source": [
    "plt.imshow(image_data[4])"
   ]
  },
  {
   "cell_type": "code",
   "execution_count": 98,
   "metadata": {},
   "outputs": [
    {
     "name": "stdout",
     "output_type": "stream",
     "text": [
      "(0.0, 0.32935431599617004, (0, 0), (31, 23))\n"
     ]
    },
    {
     "data": {
      "image/png": "[encoded data removed]",
      "text/plain": [
       "<Figure size 720x576 with 3 Axes>"
      ]
     },
     "metadata": {
      "needs_background": "light"
     },
     "output_type": "display_data"
    }
   ],
   "source": [
    "image = X_train[1]\n",
    "H, S, V = image[:,:,0],image[:,:,1],image[:,:,2]\n",
    "mm = cv2.minMaxLoc(S)\n",
    "print(mm)\n",
    "\n",
    "plt.figure(figsize=(10,8))\n",
    "plt.subplot(311)                             #plot in the first cell\n",
    "plt.subplots_adjust(hspace=.5)\n",
    "plt.title(\"Hue\")\n",
    "plt.hist(np.ndarray.flatten(H), bins=180)\n",
    "plt.subplot(312)                             #plot in the second cell\n",
    "plt.title(\"Saturation\")\n",
    "plt.hist(np.ndarray.flatten(S), bins=128)\n",
    "plt.subplot(313)                             #plot in the third cell\n",
    "plt.title(\"Luminosity Value\")\n",
    "plt.hist(np.ndarray.flatten(V), bins=128)\n",
    "plt.show()"
   ]
  },
  {
   "cell_type": "code",
   "execution_count": null,
   "metadata": {},
   "outputs": [
    {
     "name": "stdout",
     "output_type": "stream",
     "text": [
      "dict_keys(['loss', 'accuracy', 'binary_accuracy', 'val_loss', 'val_accuracy', 'val_binary_accuracy'])\n"
     ]
    },
    {
     "data": {
      "image/png": "[encoded data removed]",
      "text/plain": [
       "<Figure size 432x288 with 1 Axes>"
      ]
     },
     "metadata": {
      "needs_background": "light"
     },
     "output_type": "display_data"
    }
   ],
   "source": [
    "print(history.history.keys())\n",
    "plt.plot(history.history['accuracy'])\n",
    "plt.plot(history.history['val_accuracy'])\n",
    "plt.title('Model Accuracy')\n",
    "plt.ylabel('Accuracy')\n",
    "plt.xlabel('#f Iterations')\n",
    "plt.legend(['Train', 'Test'], loc='upper left')\n",
    "plt.show()"
   ]
  },
  {
   "cell_type": "code",
   "execution_count": null,
   "metadata": {},
   "outputs": [
    {
     "data": {
      "image/png": "[encoded data removed]",
      "text/plain": [
       "<Figure size 432x288 with 1 Axes>"
      ]
     },
     "metadata": {
      "needs_background": "light"
     },
     "output_type": "display_data"
    }
   ],
   "source": [
    "plt.plot(history.history['loss'])\n",
    "plt.plot(history.history['val_loss'])\n",
    "plt.title('Model Loss')\n",
    "plt.ylabel('Loss')\n",
    "plt.xlabel('#f Iterations')\n",
    "plt.legend(['Train', 'Test'], loc='upper left')\n",
    "plt.show()"
   ]
  },
  {
   "cell_type": "code",
   "execution_count": null,
   "metadata": {},
   "outputs": [
    {
     "name": "stderr",
     "output_type": "stream",
     "text": [
      "2022-04-16 22:14:47.814190: I tensorflow/core/grappler/optimizers/custom_graph_optimizer_registry.cc:113] Plugin optimizer for device_type GPU is enabled.\n"
     ]
    },
    {
     "name": "stdout",
     "output_type": "stream",
     "text": [
      "(25298, 16)\n"
     ]
    }
   ],
   "source": [
    "import pandas as pd\n",
    "from keras.models import Model\n",
    "\n",
    "new_model=Model(inputs=model.input,outputs=model.get_layer('feature_extractor').output)\n",
    "train_x=new_model.predict(X_train)\n",
    "X_test=X_test.reshape(X_test.shape[0],32,32,3)\n",
    "test_x=new_model.predict(X_test)\n",
    "print(test_x.shape)"
   ]
  },
  {
   "cell_type": "code",
   "execution_count": null,
   "metadata": {},
   "outputs": [
    {
     "name": "stdout",
     "output_type": "stream",
     "text": [
      "227675\n"
     ]
    }
   ],
   "source": [
    "train_y=[ np.where(r==1)[0][0] for r in y_train ]\n",
    "print(len(train_y))"
   ]
  },
  {
   "cell_type": "code",
   "execution_count": null,
   "metadata": {},
   "outputs": [],
   "source": [
    "\n",
    "from sklearn.svm import SVC\n",
    "\n",
    "svm=SVC()\n",
    "svm.fit(train_x,train_y)\n",
    "svm.score(train_x,train_y)\n",
    "svm_predict=svm.predict(test_x)"
   ]
  },
  {
   "cell_type": "code",
   "execution_count": null,
   "metadata": {},
   "outputs": [
    {
     "name": "stdout",
     "output_type": "stream",
     "text": [
      "[[10148   635]\n",
      " [ 1306 13209]]\n",
      "0.9232745671594592\n",
      "0.9232745671594592\n"
     ]
    }
   ],
   "source": [
    "from sklearn.metrics._plot.confusion_matrix import confusion_matrix\n",
    "from sklearn.metrics import accuracy_score, precision_score, recall_score\n",
    "\n",
    "print(confusion_matrix( y_test[:,1], svm_predict ))\n",
    "print( precision_score( y_test[:,1], svm_predict, average='micro') )\n",
    "print( recall_score( y_test[:,1], svm_predict, average='micro') )"
   ]
  }
 ],
 "metadata": {
  "interpreter": {
   "hash": "8400f417db452b1fc95af2c99e1a3999f9f2bcaa41ebb17e9c014f684ca7b29d"
  },
  "kernelspec": {
   "display_name": "ml",
   "language": "python",
   "name": "ml"
  },
  "language_info": {
   "codemirror_mode": {
    "name": "ipython",
    "version": 3
   },
   "file_extension": ".py",
   "mimetype": "text/x-python",
   "name": "python",
   "nbconvert_exporter": "python",
   "pygments_lexer": "ipython3",
   "version": "3.8.9"
  },
  "orig_nbformat": 4
 },
 "nbformat": 4,
 "nbformat_minor": 2
}
